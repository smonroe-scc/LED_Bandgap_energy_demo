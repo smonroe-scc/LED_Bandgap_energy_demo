{
 "cells": [
  {
   "cell_type": "code",
   "execution_count": 1,
   "metadata": {},
   "outputs": [
    {
     "name": "stdout",
     "output_type": "stream",
     "text": [
      "Author        : sm626967\n",
      "Python        : 3.7.4 \n",
      "NumPy         : 1.18.1\n",
      "Encoding      : utf-8\n",
      "Timestamp     : 1599238091.914527\n"
     ]
    }
   ],
   "source": [
    "%run ./py_templates/1_boilerplate_numeric.py"
   ]
  },
  {
   "cell_type": "code",
   "execution_count": 2,
   "metadata": {},
   "outputs": [],
   "source": [
    "import scipy.constants as sc"
   ]
  },
  {
   "cell_type": "markdown",
   "metadata": {},
   "source": [
    "An electronvolt (eV) is the amount of kinetic energy gained by a single electron accelerating from rest through an electric potential difference of one volt in vacuum. When used as a unit of energy, the numerical value of $1 eV$ in joules (J) is equivalent to the numerical value of the charge of an electron in coulombs (symbol C). This sets $1 eV$ equal to the exact value $1.602176634×10^{−19} J$.  This is represented below as \"q\" (Charge of an electron in Coulombs)..."
   ]
  },
  {
   "cell_type": "code",
   "execution_count": 3,
   "metadata": {},
   "outputs": [],
   "source": [
    "h=sc.Planck     # Planck's constant\n",
    "c=sc.c          # Speed of light in a vacuum       \n",
    "q=sc.e          # Charge of an electron in Coulombs\n",
    "Eg_si=1.11      # in eV\n",
    "Eg_gaas=1.43    # in eV\n",
    "Eg_ingan=2.5    # in eV\n",
    "Eg_gan=3.4      # in eV"
   ]
  },
  {
   "cell_type": "markdown",
   "metadata": {},
   "source": [
    "We will use the following relationship:"
   ]
  },
  {
   "cell_type": "markdown",
   "metadata": {},
   "source": [
    "$$E_G=\\frac{h \\cdot c}{\\lambda}$$"
   ]
  },
  {
   "cell_type": "markdown",
   "metadata": {},
   "source": [
    "Therefore, "
   ]
  },
  {
   "cell_type": "markdown",
   "metadata": {},
   "source": [
    "$$\\lambda=\\frac{h \\cdot c}{E_G}$$"
   ]
  },
  {
   "cell_type": "markdown",
   "metadata": {},
   "source": [
    "Calculate the wavelength for a silicon diode:"
   ]
  },
  {
   "cell_type": "code",
   "execution_count": 4,
   "metadata": {},
   "outputs": [
    {
     "name": "stdout",
     "output_type": "stream",
     "text": [
      "For Eg(Si), λ is 1.11697e-06 meters\n"
     ]
    }
   ],
   "source": [
    "Eg=Eg_si*q\n",
    "lambda_silicon=(h*c)/Eg\n",
    "print(\"For Eg(Si), λ is\",'{0:.5e}'.format(lambda_silicon),\"meters\")"
   ]
  },
  {
   "cell_type": "markdown",
   "metadata": {},
   "source": [
    "Calculate the wavelength for a GaAs diode:"
   ]
  },
  {
   "cell_type": "code",
   "execution_count": 5,
   "metadata": {},
   "outputs": [
    {
     "name": "stdout",
     "output_type": "stream",
     "text": [
      "For Eg(GaAs), λ is 8.67022e-07 meters\n"
     ]
    }
   ],
   "source": [
    "Eg=Eg_gaas*q\n",
    "lambda_gaas=(h*c)/Eg\n",
    "print(\"For Eg(GaAs), λ is\",'{0:.5e}'.format(lambda_gaas),\"meters\")"
   ]
  },
  {
   "cell_type": "markdown",
   "metadata": {},
   "source": [
    "Calculate the wavelength for a GaN diode:"
   ]
  },
  {
   "cell_type": "code",
   "execution_count": 6,
   "metadata": {},
   "outputs": [
    {
     "name": "stdout",
     "output_type": "stream",
     "text": [
      "For Eg(GaN), λ is 3.64659e-07 meters\n"
     ]
    }
   ],
   "source": [
    "Eg=Eg_gan*q\n",
    "lambda_gan=(h*c)/Eg\n",
    "print(\"For Eg(GaN), λ is\",'{0:.5e}'.format(lambda_gan),\"meters\")"
   ]
  },
  {
   "cell_type": "markdown",
   "metadata": {},
   "source": [
    "To move this further into the more \"blue\" region rather than \"violet\", some Indium will be added to the GaN to produce InGaN and change the band gap energy.  This will produce a more \"blue\" wavelength. "
   ]
  },
  {
   "cell_type": "code",
   "execution_count": 7,
   "metadata": {},
   "outputs": [
    {
     "name": "stdout",
     "output_type": "stream",
     "text": [
      "For Eg(InGaN), λ is 4.95937e-07 meters\n"
     ]
    }
   ],
   "source": [
    "Eg=Eg_ingan*q\n",
    "lambda_ingan=(h*c)/Eg\n",
    "print(\"For Eg(InGaN), λ is\",'{0:.5e}'.format(lambda_ingan),\"meters\")"
   ]
  }
 ],
 "metadata": {
  "kernelspec": {
   "display_name": "Python 3",
   "language": "python",
   "name": "python3"
  },
  "language_info": {
   "codemirror_mode": {
    "name": "ipython",
    "version": 3
   },
   "file_extension": ".py",
   "mimetype": "text/x-python",
   "name": "python",
   "nbconvert_exporter": "python",
   "pygments_lexer": "ipython3",
   "version": "3.7.4"
  }
 },
 "nbformat": 4,
 "nbformat_minor": 4
}
